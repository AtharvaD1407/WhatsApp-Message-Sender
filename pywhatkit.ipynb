{
 "cells": [
  {
   "cell_type": "markdown",
   "id": "192bd3e0",
   "metadata": {},
   "source": [
    "# WhatsApp Message Sender using `pywhatkit`\n",
    "This notebook demonstrates how to send WhatsApp messages automatically at a scheduled time using the `pywhatkit` library in Python.\n",
    "\n",
    "You can specify the recipient's phone number, the message content, and the time to send the message. The script will open WhatsApp Web automatically at the scheduled time and send the message.\n",
    "\n",
    "## Requirements:\n",
    "- Python 3.x\n",
    "- pywhatkit library\n",
    "- Active WhatsApp Web session in your default browser\n"
   ]
  },
  {
   "cell_type": "code",
   "execution_count": 1,
   "id": "a9a5732f",
   "metadata": {},
   "outputs": [
    {
     "name": "stdout",
     "output_type": "stream",
     "text": [
      "Requirement already satisfied: pywhatkit in e:\\my repo\\whatsapp-message-sender\\.venv\\lib\\site-packages (5.4)\n",
      "Requirement already satisfied: Pillow in e:\\my repo\\whatsapp-message-sender\\.venv\\lib\\site-packages (from pywhatkit) (11.2.1)\n",
      "Requirement already satisfied: pyautogui in e:\\my repo\\whatsapp-message-sender\\.venv\\lib\\site-packages (from pywhatkit) (0.9.54)\n",
      "Requirement already satisfied: requests in e:\\my repo\\whatsapp-message-sender\\.venv\\lib\\site-packages (from pywhatkit) (2.32.3)\n",
      "Requirement already satisfied: wikipedia in e:\\my repo\\whatsapp-message-sender\\.venv\\lib\\site-packages (from pywhatkit) (1.4.0)\n",
      "Requirement already satisfied: Flask in e:\\my repo\\whatsapp-message-sender\\.venv\\lib\\site-packages (from pywhatkit) (3.1.1)\n",
      "Requirement already satisfied: blinker>=1.9.0 in e:\\my repo\\whatsapp-message-sender\\.venv\\lib\\site-packages (from Flask->pywhatkit) (1.9.0)\n",
      "Requirement already satisfied: click>=8.1.3 in e:\\my repo\\whatsapp-message-sender\\.venv\\lib\\site-packages (from Flask->pywhatkit) (8.2.0)\n",
      "Requirement already satisfied: itsdangerous>=2.2.0 in e:\\my repo\\whatsapp-message-sender\\.venv\\lib\\site-packages (from Flask->pywhatkit) (2.2.0)\n",
      "Requirement already satisfied: jinja2>=3.1.2 in e:\\my repo\\whatsapp-message-sender\\.venv\\lib\\site-packages (from Flask->pywhatkit) (3.1.6)\n",
      "Requirement already satisfied: markupsafe>=2.1.1 in e:\\my repo\\whatsapp-message-sender\\.venv\\lib\\site-packages (from Flask->pywhatkit) (3.0.2)\n",
      "Requirement already satisfied: werkzeug>=3.1.0 in e:\\my repo\\whatsapp-message-sender\\.venv\\lib\\site-packages (from Flask->pywhatkit) (3.1.3)\n",
      "Requirement already satisfied: colorama in e:\\my repo\\whatsapp-message-sender\\.venv\\lib\\site-packages (from click>=8.1.3->Flask->pywhatkit) (0.4.6)\n",
      "Requirement already satisfied: pymsgbox in e:\\my repo\\whatsapp-message-sender\\.venv\\lib\\site-packages (from pyautogui->pywhatkit) (1.0.9)\n",
      "Requirement already satisfied: pytweening>=1.0.4 in e:\\my repo\\whatsapp-message-sender\\.venv\\lib\\site-packages (from pyautogui->pywhatkit) (1.2.0)\n",
      "Requirement already satisfied: pyscreeze>=0.1.21 in e:\\my repo\\whatsapp-message-sender\\.venv\\lib\\site-packages (from pyautogui->pywhatkit) (1.0.1)\n",
      "Requirement already satisfied: pygetwindow>=0.0.5 in e:\\my repo\\whatsapp-message-sender\\.venv\\lib\\site-packages (from pyautogui->pywhatkit) (0.0.9)\n",
      "Requirement already satisfied: mouseinfo in e:\\my repo\\whatsapp-message-sender\\.venv\\lib\\site-packages (from pyautogui->pywhatkit) (0.1.3)\n",
      "Requirement already satisfied: pyrect in e:\\my repo\\whatsapp-message-sender\\.venv\\lib\\site-packages (from pygetwindow>=0.0.5->pyautogui->pywhatkit) (0.2.0)\n",
      "Requirement already satisfied: pyperclip in e:\\my repo\\whatsapp-message-sender\\.venv\\lib\\site-packages (from mouseinfo->pyautogui->pywhatkit) (1.9.0)\n",
      "Requirement already satisfied: charset-normalizer<4,>=2 in e:\\my repo\\whatsapp-message-sender\\.venv\\lib\\site-packages (from requests->pywhatkit) (3.4.2)\n",
      "Requirement already satisfied: idna<4,>=2.5 in e:\\my repo\\whatsapp-message-sender\\.venv\\lib\\site-packages (from requests->pywhatkit) (3.10)\n",
      "Requirement already satisfied: urllib3<3,>=1.21.1 in e:\\my repo\\whatsapp-message-sender\\.venv\\lib\\site-packages (from requests->pywhatkit) (2.4.0)\n",
      "Requirement already satisfied: certifi>=2017.4.17 in e:\\my repo\\whatsapp-message-sender\\.venv\\lib\\site-packages (from requests->pywhatkit) (2025.4.26)\n",
      "Requirement already satisfied: beautifulsoup4 in e:\\my repo\\whatsapp-message-sender\\.venv\\lib\\site-packages (from wikipedia->pywhatkit) (4.13.4)\n",
      "Requirement already satisfied: soupsieve>1.2 in e:\\my repo\\whatsapp-message-sender\\.venv\\lib\\site-packages (from beautifulsoup4->wikipedia->pywhatkit) (2.7)\n",
      "Requirement already satisfied: typing-extensions>=4.0.0 in e:\\my repo\\whatsapp-message-sender\\.venv\\lib\\site-packages (from beautifulsoup4->wikipedia->pywhatkit) (4.13.2)\n"
     ]
    }
   ],
   "source": [
    "# Install pywhatkit if you don't have it already\n",
    "!pip install pywhatkit"
   ]
  },
  {
   "cell_type": "code",
   "execution_count": 2,
   "id": "eeaa5063",
   "metadata": {},
   "outputs": [],
   "source": [
    "# Import the pywhatkit library\n",
    "import pywhatkit as pwk"
   ]
  },
  {
   "cell_type": "code",
   "execution_count": 3,
   "id": "496f6412",
   "metadata": {},
   "outputs": [],
   "source": [
    "# Replace with the phone number of the recipient (in international format, e.g., +91 for India)\n",
    "phone_number = \"+91\"  # Example number, replace it with the actual number\n",
    "\n",
    "# The message to send\n",
    "message = \"Hello world!\"  # Replace with your message\n",
    "\n",
    "# The time to send the message (in 24-hour format)\n",
    "hour = 21  # 9 PM\n",
    "min = 36  # 36 minutes past 9"
   ]
  },
  {
   "cell_type": "code",
   "execution_count": null,
   "id": "9cffe481",
   "metadata": {},
   "outputs": [
    {
     "name": "stdout",
     "output_type": "stream",
     "text": [
      "In 80121 Seconds WhatsApp will open and after 15 Seconds Message will be Delivered!\n"
     ]
    }
   ],
   "source": [
    "# Send the message at the scheduled time\n",
    "pwk.sendwhatmsg(phone_number, message, hour, min)\n",
    "\n",
    "# A message to indicate the script has been executed\n",
    "print(f\"Message scheduled to be sent to {phone_number} at {hour}:{min}\")\n"
   ]
  },
  {
   "cell_type": "markdown",
   "id": "dc3c7473",
   "metadata": {},
   "source": [
    "### How It Works:\n",
    "- When you run this script, **WhatsApp Web** will open in your default browser.\n",
    "- The script will automatically wait for the specified time (in this case, 9:36 PM).\n",
    "- At the scheduled time, the message will be sent to the provided phone number.\n",
    "\n",
    "### Notes:\n",
    "- Make sure that you are logged into WhatsApp Web in your default browser.\n",
    "- The time should be in **24-hour format** (e.g., 21 for 9 PM, 13 for 1 PM).\n",
    "- If the script doesn't send the message, check the time and ensure that WhatsApp Web is active and logged in.\n",
    "\n",
    "You can adjust the time or message as needed. Feel free to modify the script to send messages to multiple recipients or schedule messages for the future."
   ]
  },
  {
   "cell_type": "code",
   "execution_count": null,
   "id": "e3154a04",
   "metadata": {},
   "outputs": [],
   "source": []
  }
 ],
 "metadata": {
  "kernelspec": {
   "display_name": ".venv",
   "language": "python",
   "name": "python3"
  },
  "language_info": {
   "codemirror_mode": {
    "name": "ipython",
    "version": 3
   },
   "file_extension": ".py",
   "mimetype": "text/x-python",
   "name": "python",
   "nbconvert_exporter": "python",
   "pygments_lexer": "ipython3",
   "version": "3.13.0"
  }
 },
 "nbformat": 4,
 "nbformat_minor": 5
}
