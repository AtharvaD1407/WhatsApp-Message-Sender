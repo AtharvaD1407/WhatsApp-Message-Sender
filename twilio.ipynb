{
 "cells": [
  {
   "cell_type": "markdown",
   "id": "1b1c9b2f",
   "metadata": {},
   "source": [
    "# WhatsApp Message Sender using Twilio API\n",
    "\n",
    "This notebook demonstrates how to send a WhatsApp message at a specific scheduled time using the **Twilio API** in Python. \n",
    "\n",
    "### Steps:\n",
    "1. Set up a **Twilio account**.\n",
    "2. Input the date, time, and recipient details.\n",
    "3. Automatically send the message when the scheduled time arrives.\n",
    "\n",
    "## Requirements:\n",
    "- Python 3.x\n",
    "- Twilio account\n",
    "- `twilio` Python package\n"
   ]
  },
  {
   "cell_type": "code",
   "execution_count": 1,
   "id": "2490bc00",
   "metadata": {},
   "outputs": [
    {
     "name": "stdout",
     "output_type": "stream",
     "text": [
      "Requirement already satisfied: twilio in e:\\my repo\\whatsapp-message-sender\\.venv\\lib\\site-packages (9.6.1)\n",
      "Requirement already satisfied: requests>=2.0.0 in e:\\my repo\\whatsapp-message-sender\\.venv\\lib\\site-packages (from twilio) (2.32.3)\n",
      "Requirement already satisfied: PyJWT<3.0.0,>=2.0.0 in e:\\my repo\\whatsapp-message-sender\\.venv\\lib\\site-packages (from twilio) (2.10.1)\n",
      "Requirement already satisfied: aiohttp>=3.8.4 in e:\\my repo\\whatsapp-message-sender\\.venv\\lib\\site-packages (from twilio) (3.11.18)\n",
      "Requirement already satisfied: aiohttp-retry>=2.8.3 in e:\\my repo\\whatsapp-message-sender\\.venv\\lib\\site-packages (from twilio) (2.9.1)\n",
      "Requirement already satisfied: aiohappyeyeballs>=2.3.0 in e:\\my repo\\whatsapp-message-sender\\.venv\\lib\\site-packages (from aiohttp>=3.8.4->twilio) (2.6.1)\n",
      "Requirement already satisfied: aiosignal>=1.1.2 in e:\\my repo\\whatsapp-message-sender\\.venv\\lib\\site-packages (from aiohttp>=3.8.4->twilio) (1.3.2)\n",
      "Requirement already satisfied: attrs>=17.3.0 in e:\\my repo\\whatsapp-message-sender\\.venv\\lib\\site-packages (from aiohttp>=3.8.4->twilio) (25.3.0)\n",
      "Requirement already satisfied: frozenlist>=1.1.1 in e:\\my repo\\whatsapp-message-sender\\.venv\\lib\\site-packages (from aiohttp>=3.8.4->twilio) (1.6.0)\n",
      "Requirement already satisfied: multidict<7.0,>=4.5 in e:\\my repo\\whatsapp-message-sender\\.venv\\lib\\site-packages (from aiohttp>=3.8.4->twilio) (6.4.3)\n",
      "Requirement already satisfied: propcache>=0.2.0 in e:\\my repo\\whatsapp-message-sender\\.venv\\lib\\site-packages (from aiohttp>=3.8.4->twilio) (0.3.1)\n",
      "Requirement already satisfied: yarl<2.0,>=1.17.0 in e:\\my repo\\whatsapp-message-sender\\.venv\\lib\\site-packages (from aiohttp>=3.8.4->twilio) (1.20.0)\n",
      "Requirement already satisfied: idna>=2.0 in e:\\my repo\\whatsapp-message-sender\\.venv\\lib\\site-packages (from yarl<2.0,>=1.17.0->aiohttp>=3.8.4->twilio) (3.10)\n",
      "Requirement already satisfied: charset-normalizer<4,>=2 in e:\\my repo\\whatsapp-message-sender\\.venv\\lib\\site-packages (from requests>=2.0.0->twilio) (3.4.2)\n",
      "Requirement already satisfied: urllib3<3,>=1.21.1 in e:\\my repo\\whatsapp-message-sender\\.venv\\lib\\site-packages (from requests>=2.0.0->twilio) (2.4.0)\n",
      "Requirement already satisfied: certifi>=2017.4.17 in e:\\my repo\\whatsapp-message-sender\\.venv\\lib\\site-packages (from requests>=2.0.0->twilio) (2025.4.26)\n"
     ]
    }
   ],
   "source": [
    "# Install the Twilio library\n",
    "!pip install twilio"
   ]
  },
  {
   "cell_type": "markdown",
   "id": "27efd3f7",
   "metadata": {},
   "source": [
    "## Setting up Twilio for WhatsApp Messaging\n",
    "\n",
    "To use the Twilio API, you need to have a **Twilio account** and configure your **WhatsApp Sandbox**.\n",
    "\n",
    "### Steps:\n",
    "1. **Create a Twilio Account**:\n",
    "   - Go to [Twilio Signup](https://www.twilio.com/try-twilio) and create a free account.\n",
    "   - After signing up, you will get your **Account SID** and **Auth Token**.\n",
    "\n",
    "2. **Activate Twilio WhatsApp Sandbox**:\n",
    "   - In your Twilio console, go to the [WhatsApp Sandbox](https://www.twilio.com/console/sms/whatsapp/sandbox).\n",
    "   - Follow the instructions to link your phone number to the Twilio Sandbox. You will receive a **sandbox number** (e.g., `whatsapp:+14155238886`) that you can use to send messages.\n",
    "\n",
    "3. **Get Your Account SID and Auth Token**:\n",
    "   - In your Twilio console, navigate to **Account Settings** and find your **Account SID** and **Auth Token**. These are required for authentication in your script.\n",
    "\n",
    "Once you have these details, you'll be able to send WhatsApp messages using the Twilio API.\n"
   ]
  },
  {
   "cell_type": "code",
   "execution_count": 2,
   "id": "0ee0e519",
   "metadata": {},
   "outputs": [],
   "source": [
    "# Import necessary libraries\n",
    "import time\n",
    "from datetime import datetime\n",
    "from twilio.rest import Client\n",
    "\n",
    "# Function to send the WhatsApp message\n",
    "def send_whatsapp_message():\n",
    "    # Replace with your actual Twilio account SID and Auth Token\n",
    "    account_sid = 'your_account_sid'  # Your Twilio Account SID\n",
    "    auth_token = 'your_auth_token'    # Your Twilio Auth Token\n",
    "    \n",
    "    # Initialize Twilio client\n",
    "    client = Client(account_sid, auth_token)\n",
    "\n",
    "    # Send WhatsApp message\n",
    "    message = client.messages.create(\n",
    "        from_='whatsapp:+14155238886',  # Twilio Sandbox WhatsApp number\n",
    "        body='Hello world!',  # Message to send\n",
    "        to='whatsapp:+919876543210'  # Your verified WhatsApp number\n",
    "    )\n",
    "\n",
    "    print(\"Message sent!\")\n"
   ]
  },
  {
   "cell_type": "code",
   "execution_count": 4,
   "id": "f9b80db0",
   "metadata": {},
   "outputs": [],
   "source": [
    "# Take date, hour, and minute input\n",
    "year = int(input(\"Enter the year (e.g. 2025): \"))\n",
    "month = int(input(\"Enter the month (1-12): \"))\n",
    "day = int(input(\"Enter the day (1-31): \"))\n",
    "hour = int(input(\"Enter the hour (0-23): \"))\n",
    "minute = int(input(\"Enter the minute (0-59): \"))"
   ]
  },
  {
   "cell_type": "code",
   "execution_count": 5,
   "id": "0f09abfd",
   "metadata": {},
   "outputs": [
    {
     "name": "stdout",
     "output_type": "stream",
     "text": [
      "The scheduled time has already passed.\n"
     ]
    }
   ],
   "source": [
    "# Create a datetime object for the input time\n",
    "scheduled_time = datetime(year, month, day, hour, minute)\n",
    "\n",
    "# Get the current time\n",
    "current_time = datetime.now()\n",
    "\n",
    "# Calculate the time difference (how long to wait)\n",
    "time_diff = scheduled_time - current_time\n",
    "\n",
    "if time_diff.total_seconds() > 0:\n",
    "    # If the scheduled time is in the future, wait for that time\n",
    "    print(f\"Waiting for scheduled time: {scheduled_time}\")\n",
    "    time.sleep(time_diff.total_seconds())  # Wait until the scheduled time\n",
    "\n",
    "    # Send the message\n",
    "    send_whatsapp_message()\n",
    "else:\n",
    "    print(\"The scheduled time has already passed.\")\n"
   ]
  },
  {
   "cell_type": "markdown",
   "id": "e4639eaf",
   "metadata": {},
   "source": [
    "### How It Works:\n",
    "- The script takes the year, month, day, hour, and minute as input to determine when the message should be sent.\n",
    "- It calculates the difference between the current time and the scheduled time.\n",
    "- If the scheduled time is in the future, it waits until that time and sends the message using the Twilio API.\n",
    "- If the scheduled time has already passed, it will notify you that the time has passed.\n",
    "\n",
    "### Notes:\n",
    "- **Twilio Sandbox**: You can only send messages to numbers that have opted into your Twilio Sandbox. Use the instructions in the Twilio console to add your number to the sandbox.\n",
    "- **Time Zone**: Make sure to enter the time in your local time zone.\n",
    "- **Message Delay**: The script might open WhatsApp Web a few seconds earlier than the scheduled time to ensure it has enough time to send the message."
   ]
  }
 ],
 "metadata": {
  "kernelspec": {
   "display_name": ".venv",
   "language": "python",
   "name": "python3"
  },
  "language_info": {
   "codemirror_mode": {
    "name": "ipython",
    "version": 3
   },
   "file_extension": ".py",
   "mimetype": "text/x-python",
   "name": "python",
   "nbconvert_exporter": "python",
   "pygments_lexer": "ipython3",
   "version": "3.13.0"
  }
 },
 "nbformat": 4,
 "nbformat_minor": 5
}
